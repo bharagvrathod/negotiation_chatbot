{
  "nbformat": 4,
  "nbformat_minor": 0,
  "metadata": {
    "colab": {
      "provenance": [],
      "authorship_tag": "ABX9TyPscU4OB0ox7HfUrAhjLDrW",
      "include_colab_link": true
    },
    "kernelspec": {
      "name": "python3",
      "display_name": "Python 3"
    },
    "language_info": {
      "name": "python"
    }
  },
  "cells": [
    {
      "cell_type": "markdown",
      "metadata": {
        "id": "view-in-github",
        "colab_type": "text"
      },
      "source": [
        "<a href=\"https://colab.research.google.com/github/bharagvrathod/negotiation_chatbot/blob/main/negotiation_chatbot.ipynb\" target=\"_parent\"><img src=\"https://colab.research.google.com/assets/colab-badge.svg\" alt=\"Open In Colab\"/></a>"
      ]
    },
    {
      "cell_type": "markdown",
      "source": [
        "# **Negotiation chatbot**"
      ],
      "metadata": {
        "id": "CVSNNGUB_7OI"
      }
    },
    {
      "cell_type": "markdown",
      "source": [
        "This project features two negotiation chatbot models using the DialoGPT model from Hugging Face. Both chatbots engage in price negotiation with users, offering and adjusting prices based on user input. The second model enhances this by incorporating sentiment analysis, providing context-aware, sentiment-driven responses. This chatbot can be used to simulate price negotiations with AI that adapts to user interaction."
      ],
      "metadata": {
        "id": "RaP-2BlCADJF"
      }
    },
    {
      "cell_type": "code",
      "source": [
        "!pip install transformers torch\n"
      ],
      "metadata": {
        "colab": {
          "base_uri": "https://localhost:8080/"
        },
        "id": "l6obU7d4wDK3",
        "outputId": "43b3b3fe-ebcf-417f-9b3c-2a02bf83a1b7"
      },
      "execution_count": 2,
      "outputs": [
        {
          "output_type": "stream",
          "name": "stdout",
          "text": [
            "Requirement already satisfied: transformers in /usr/local/lib/python3.10/dist-packages (4.44.2)\n",
            "Requirement already satisfied: torch in /usr/local/lib/python3.10/dist-packages (2.4.1+cu121)\n",
            "Requirement already satisfied: filelock in /usr/local/lib/python3.10/dist-packages (from transformers) (3.16.0)\n",
            "Requirement already satisfied: huggingface-hub<1.0,>=0.23.2 in /usr/local/lib/python3.10/dist-packages (from transformers) (0.24.7)\n",
            "Requirement already satisfied: numpy>=1.17 in /usr/local/lib/python3.10/dist-packages (from transformers) (1.26.4)\n",
            "Requirement already satisfied: packaging>=20.0 in /usr/local/lib/python3.10/dist-packages (from transformers) (24.1)\n",
            "Requirement already satisfied: pyyaml>=5.1 in /usr/local/lib/python3.10/dist-packages (from transformers) (6.0.2)\n",
            "Requirement already satisfied: regex!=2019.12.17 in /usr/local/lib/python3.10/dist-packages (from transformers) (2024.9.11)\n",
            "Requirement already satisfied: requests in /usr/local/lib/python3.10/dist-packages (from transformers) (2.32.3)\n",
            "Requirement already satisfied: safetensors>=0.4.1 in /usr/local/lib/python3.10/dist-packages (from transformers) (0.4.5)\n",
            "Requirement already satisfied: tokenizers<0.20,>=0.19 in /usr/local/lib/python3.10/dist-packages (from transformers) (0.19.1)\n",
            "Requirement already satisfied: tqdm>=4.27 in /usr/local/lib/python3.10/dist-packages (from transformers) (4.66.5)\n",
            "Requirement already satisfied: typing-extensions>=4.8.0 in /usr/local/lib/python3.10/dist-packages (from torch) (4.12.2)\n",
            "Requirement already satisfied: sympy in /usr/local/lib/python3.10/dist-packages (from torch) (1.13.2)\n",
            "Requirement already satisfied: networkx in /usr/local/lib/python3.10/dist-packages (from torch) (3.3)\n",
            "Requirement already satisfied: jinja2 in /usr/local/lib/python3.10/dist-packages (from torch) (3.1.4)\n",
            "Requirement already satisfied: fsspec in /usr/local/lib/python3.10/dist-packages (from torch) (2024.6.1)\n",
            "Requirement already satisfied: MarkupSafe>=2.0 in /usr/local/lib/python3.10/dist-packages (from jinja2->torch) (2.1.5)\n",
            "Requirement already satisfied: charset-normalizer<4,>=2 in /usr/local/lib/python3.10/dist-packages (from requests->transformers) (3.3.2)\n",
            "Requirement already satisfied: idna<4,>=2.5 in /usr/local/lib/python3.10/dist-packages (from requests->transformers) (3.10)\n",
            "Requirement already satisfied: urllib3<3,>=1.21.1 in /usr/local/lib/python3.10/dist-packages (from requests->transformers) (2.0.7)\n",
            "Requirement already satisfied: certifi>=2017.4.17 in /usr/local/lib/python3.10/dist-packages (from requests->transformers) (2024.8.30)\n",
            "Requirement already satisfied: mpmath<1.4,>=1.1.0 in /usr/local/lib/python3.10/dist-packages (from sympy->torch) (1.3.0)\n"
          ]
        }
      ]
    },
    {
      "cell_type": "markdown",
      "source": [
        "# **Negotiation Chatbot Using DialoGPT without sentiment analysis**"
      ],
      "metadata": {
        "id": "faRy5zuq8PV1"
      }
    },
    {
      "cell_type": "markdown",
      "source": [
        "## 1. **Basic Negotiation Model (Non-Sentiment)**\n",
        "\n",
        "\n",
        "* ### DialoGPT Integration:\n",
        "    * The chatbot uses the DialoGPT-medium model for generating natural language responses. The model generates dialogue based on the user’s input and previous conversation.  \n",
        "* ### Price Negotiation Logic\n",
        "    * **Initial Offer**: The bot starts with a maximum offer, pre-set at $120.\n",
        "    * **Counteroffer Handling**: Users can either accept the current offer or propose a counteroffer.\n",
        "    * **Price adjustment**: If the user's counteroffer is close to the last offer (within $5), the bot accepts the user’s price. If the counteroffer is too low (below $80), the bot rejects it and asks for a higher offer. If the counteroffer is acceptable but not close enough to finalize the deal, the bot makes a new counteroffer as the average between the previous offer and the user’s price.\n",
        "\n",
        "\n"
      ],
      "metadata": {
        "id": "6pFnmvdb-X_a"
      }
    },
    {
      "cell_type": "code",
      "source": [
        "from transformers import AutoModelForCausalLM, AutoTokenizer\n",
        "import torch\n",
        "\n",
        "# Load the DialoGPT model and tokenizer\n",
        "tokenizer = AutoTokenizer.from_pretrained(\"microsoft/DialoGPT-medium\")\n",
        "model = AutoModelForCausalLM.from_pretrained(\"microsoft/DialoGPT-medium\")\n",
        "\n",
        "# Set acceptable price range for negotiation\n",
        "BASE_PRICE = 100\n",
        "MIN_PRICE = 80\n",
        "MAX_PRICE = 120\n",
        "\n",
        "previous_offers = {\n",
        "    'chatgpt_offer': MAX_PRICE  # Initial offer is set to MAX_PRICE\n",
        "}\n",
        "\n",
        "# Function to get DialoGPT response\n",
        "def get_dialo_response(user_input):\n",
        "    # Encode the user input and previous conversation\n",
        "    input_ids = tokenizer.encode(user_input + tokenizer.eos_token, return_tensors='pt')\n",
        "\n",
        "    # Generate a response\n",
        "    chat_history_ids = model.generate(input_ids, max_length=1000, pad_token_id=tokenizer.eos_token_id)\n",
        "\n",
        "    # Decode the response\n",
        "    response = tokenizer.decode(chat_history_ids[:, input_ids.shape[-1]:][0], skip_special_tokens=True)\n",
        "    return response\n",
        "\n",
        "# Function to initiate the negotiation\n",
        "def initiate_negotiation():\n",
        "    prompt = (f\"Initiate a negotiation for a product price. \"\n",
        "              f\"Offer a reasonable starting price between {MIN_PRICE} and {MAX_PRICE}, \"\n",
        "              f\"and encourage the user to either accept, reject, or propose a counteroffer.\")\n",
        "\n",
        "    initial_offer = f\"The initial offer is ${MAX_PRICE}. What do you think?\"\n",
        "    previous_offers['chatgpt_offer'] = MAX_PRICE\n",
        "    return initial_offer\n",
        "\n",
        "# Function to handle user counteroffers\n",
        "def negotiate(user_price, agreed=False):\n",
        "    last_offer = previous_offers['chatgpt_offer']\n",
        "\n",
        "    if agreed:\n",
        "        return f\"Thank you for agreeing to ${user_price}. The deal is finalized!\"\n",
        "\n",
        "    if abs(last_offer - user_price) <= 5:\n",
        "        return f\"Accepted your offer of ${user_price}. The deal is finalized!\"\n",
        "\n",
        "    if user_price < MIN_PRICE:\n",
        "        return f\"Your offer of ${user_price} is below the minimum. Please offer more.\"\n",
        "\n",
        "    if user_price >= MIN_PRICE:\n",
        "        new_offer = (user_price + last_offer) // 2  # Propose a new counteroffer\n",
        "        previous_offers['chatgpt_offer'] = new_offer\n",
        "        return f\"I propose a new offer of ${new_offer}.\"\n",
        "\n",
        "# Start the negotiation\n",
        "initial_response = initiate_negotiation()\n",
        "print(\"ChatGPT's Initial Offer:\", initial_response)\n",
        "\n",
        "# Simulate user interactions\n",
        "while True:\n",
        "    user_input = input(\"Enter your price (or type 'accept' to agree): \")\n",
        "    if user_input.lower() == 'accept':\n",
        "        final_response = negotiate(user_price, agreed=True)\n",
        "        print(final_response)\n",
        "        break\n",
        "    else:\n",
        "        try:\n",
        "            user_price = int(user_input)\n",
        "            response = negotiate(user_price)\n",
        "            print(\"ChatGPT's Response:\", response)\n",
        "        except ValueError:\n",
        "            print(\"Please enter a valid price or 'accept' to agree.\")\n"
      ],
      "metadata": {
        "colab": {
          "base_uri": "https://localhost:8080/"
        },
        "id": "Y9dNR69EBzgf",
        "outputId": "995b2b21-8892-4c6f-f730-4d134bccbf52"
      },
      "execution_count": 40,
      "outputs": [
        {
          "output_type": "stream",
          "name": "stdout",
          "text": [
            "ChatGPT's Initial Offer: The initial offer is $120. What do you think?\n",
            "Enter your price (or type 'accept' to agree): 40\n",
            "ChatGPT's Response: Your offer of $40 is below the minimum. Please offer more.\n",
            "Enter your price (or type 'accept' to agree): 80\n",
            "ChatGPT's Response: I propose a new offer of $100.\n",
            "Enter your price (or type 'accept' to agree): 95\n",
            "ChatGPT's Response: Accepted your offer of $95. The deal is finalized!\n",
            "Enter your price (or type 'accept' to agree): accept\n",
            "Thank you for agreeing to $95. The deal is finalized!\n"
          ]
        }
      ]
    },
    {
      "cell_type": "markdown",
      "source": [
        "# **Negotiation Chatbot Using DialoGPT with sentiment analysis**"
      ],
      "metadata": {
        "id": "fRj-40OuANsq"
      }
    },
    {
      "cell_type": "markdown",
      "source": [
        "* **DialoGPT Integration**:\n",
        "    * Like the first model, the second chatbot uses the DialoGPT-medium model for generating responses.\n",
        "* **Sentiment Analysis Integration**:\n",
        "    * This version incorporates Hugging Face's sentiment analysis pipeline. The chatbot evaluates whether user input is positive, neutral, or negative and adjusts its responses accordingly.\n",
        "* **Price Negotiation Logic with Sentiment**:\n",
        "    * **Initial Offer**: The bot initiates the negotiation with a maximum offer of $120.\n",
        "        * **Sentiment-Based Price Adjustments**:\n",
        "            * **Positive Sentiment**: If the user's sentiment is positive, the bot is more generous, reducing the offer by up to 20%.\n",
        "            * **Neutral Sentiment**: For neutral responses, the bot makes smaller adjustments, typically reducing the offer by around 7%.\n",
        "            * **Negative Sentiment**: If the user shows negative sentiment, the bot may slightly increase the price (around 3%) while responding more carefully.\n",
        "            * **Response Generation**: The bot uses polite and sometimes humorous responses to guide the conversation, especially when a positive sentiment is detected."
      ],
      "metadata": {
        "id": "iOXWAWVRAefl"
      }
    },
    {
      "cell_type": "code",
      "source": [
        "import re\n",
        "from transformers import AutoModelForCausalLM, AutoTokenizer, pipeline\n",
        "import torch\n",
        "\n",
        "# Load the DialoGPT model and tokenizer from Hugging Face's model hub\n",
        "tokenizer = AutoTokenizer.from_pretrained(\"microsoft/DialoGPT-medium\")\n",
        "model = AutoModelForCausalLM.from_pretrained(\"microsoft/DialoGPT-medium\")\n",
        "\n",
        "# Fix the pad_token issue: If the tokenizer doesn't have a pad token set, use the end-of-sequence token instead.\n",
        "if tokenizer.pad_token is None:\n",
        "    tokenizer.pad_token = tokenizer.eos_token\n",
        "\n",
        "# Load a sentiment analysis pipeline to evaluate user input sentiment\n",
        "sentiment_analyzer = pipeline(\"sentiment-analysis\")\n",
        "\n",
        "# Set acceptable price range for negotiation\n",
        "BASE_PRICE = 100  # Base price for negotiations\n",
        "MIN_PRICE = 80    # Minimum acceptable price\n",
        "MAX_PRICE = 120   # Maximum acceptable price\n",
        "\n",
        "# Dictionary to store previous offers made by ChatGPT\n",
        "previous_offers = {\n",
        "    'chatgpt_offer': MAX_PRICE  # Initial offer is set to MAX_PRICE\n",
        "}\n",
        "\n",
        "# Function to get a humorous and polite GPT response based on the new offer and user sentiment\n",
        "def get_dialo_response(new_offer, sentiment_label, user_price):\n",
        "    humor_prompt = \"\"\n",
        "\n",
        "    # Determine how to respond based on sentiment\n",
        "    if sentiment_label == 'POSITIVE':\n",
        "        humor_prompt = \"The user seems polite and positive. Please offer a humorous and generous response, appreciating their attitude.\"\n",
        "    elif sentiment_label == 'NEGATIVE':\n",
        "        humor_prompt = \"The user seems unhappy. Please respond kindly but firmly, explaining the reasons for the current offer.\"\n",
        "    else:\n",
        "        humor_prompt = \"The user seems neutral. Please offer a polite and slightly humorous response, sticking to a reasonable counteroffer.\"\n",
        "\n",
        "    # Create a prompt for GPT with the current offer, sentiment, and the user's offer\n",
        "    prompt = (\n",
        "        f\"The user has offered ${user_price}, and the counteroffer is now ${new_offer}. \"\n",
        "        f\"{humor_prompt} Keep the tone professional but humorous.\"\n",
        "    )\n",
        "\n",
        "    # Encode the prompt into input IDs for the model\n",
        "    input_ids = tokenizer.encode(prompt + tokenizer.eos_token, return_tensors='pt')\n",
        "\n",
        "    # Generate a response from the model\n",
        "    chat_history_ids = model.generate(\n",
        "        input_ids,\n",
        "        max_length=500,\n",
        "        pad_token_id=tokenizer.pad_token_id,\n",
        "        attention_mask=torch.ones_like(input_ids),\n",
        "        do_sample=True\n",
        "    )\n",
        "\n",
        "    # Decode the generated response back into text\n",
        "    response = tokenizer.decode(chat_history_ids[:, input_ids.shape[-1]:][0], skip_special_tokens=True)\n",
        "    return response\n",
        "\n",
        "# Function to initiate the negotiation process by making the initial offer\n",
        "def initiate_negotiation():\n",
        "    initial_offer = f\"The initial offer is ${MAX_PRICE}. What do you think?\"  # Create initial offer message\n",
        "    previous_offers['chatgpt_offer'] = MAX_PRICE  # Update the previous offer\n",
        "    return initial_offer\n",
        "\n",
        "# Function to adjust the offer based on user sentiment\n",
        "def adjust_offer_based_on_sentiment(sentiment_label, last_offer):\n",
        "    if sentiment_label == 'POSITIVE':\n",
        "        # For positive sentiment, reduce the offer more significantly (e.g., up to 20%)\n",
        "        reduction = (MAX_PRICE - MIN_PRICE) * 0.2\n",
        "        new_offer = max(MIN_PRICE, last_offer - reduction)\n",
        "    elif sentiment_label == 'NEGATIVE':\n",
        "        # For negative sentiment, slightly increase the offer (up to 3%)\n",
        "        increase = (MAX_PRICE - MIN_PRICE) * 0.03\n",
        "        new_offer = min(MAX_PRICE, last_offer + increase)\n",
        "    else:\n",
        "        # For neutral sentiment, make a smaller reduction (e.g., 7%)\n",
        "        adjustment = (MAX_PRICE - MIN_PRICE) * 0.07\n",
        "        new_offer = max(MIN_PRICE, last_offer - adjustment)\n",
        "\n",
        "    # Update the previous offer to the new calculated offer\n",
        "    previous_offers['chatgpt_offer'] = new_offer\n",
        "    return new_offer\n",
        "\n",
        "# Function to extract a numeric price from user input\n",
        "def extract_price(user_input):\n",
        "    match = re.search(r'\\d+', user_input)  # Look for a number in the input\n",
        "    if match:\n",
        "        return int(match.group())  # Return the extracted number as an integer\n",
        "    return None  # Return None if no valid number is found\n",
        "\n",
        "# Function to handle the negotiation response from the user\n",
        "def handle_negotiation(user_input):\n",
        "    last_offer = previous_offers['chatgpt_offer']  # Get the last offer made by ChatGPT\n",
        "\n",
        "    user_price = extract_price(user_input)  # Attempt to extract a price from user input\n",
        "    if user_price is None:\n",
        "        return \"Please enter a valid price or 'accept' to agree.\"  # Handle invalid input\n",
        "\n",
        "    sentiment_result = sentiment_analyzer(user_input)[0]  # Analyze the sentiment of the user input\n",
        "    sentiment_label = sentiment_result['label']  # Extract the sentiment label (POSITIVE, NEGATIVE, or NEUTRAL)\n",
        "\n",
        "    new_offer = adjust_offer_based_on_sentiment(sentiment_label, last_offer)  # Adjust the offer based on sentiment\n",
        "    response = get_dialo_response(new_offer, sentiment_label, user_price)  # Get the response from GPT based on the new offer\n",
        "\n",
        "    return f\"My counteroffer is ${new_offer}. {response}\"  # Return the new offer and response\n",
        "\n",
        "# Start the negotiation by initiating the first offer\n",
        "initial_response = initiate_negotiation()\n",
        "print(\"ChatGPT's Initial Offer:\", initial_response)  # Print the initial offer\n",
        "\n",
        "# Simulate user interactions in a loop\n",
        "while True:\n",
        "    user_input = input(\"You: \")  # Prompt for user input\n",
        "    if user_input.lower() == 'accept':  # Check if the user wants to accept the offer\n",
        "        final_response = f\"Thank you for accepting the offer of ${previous_offers['chatgpt_offer']}. The deal is finalized!\"  # Finalize the deal\n",
        "        print(final_response)  # Print the final response\n",
        "        break  # Exit the loop\n",
        "    else:\n",
        "        response = handle_negotiation(user_input)  # Handle negotiation based on user input\n",
        "        print(\"ChatGPT:\", response)  # Print ChatGPT's response\n"
      ],
      "metadata": {
        "colab": {
          "base_uri": "https://localhost:8080/"
        },
        "id": "2n5MeKMefzCo",
        "outputId": "1e586be1-ef9e-4e3f-9a27-8fb2453b835e"
      },
      "execution_count": 41,
      "outputs": [
        {
          "output_type": "stream",
          "name": "stderr",
          "text": [
            "No model was supplied, defaulted to distilbert/distilbert-base-uncased-finetuned-sst-2-english and revision af0f99b (https://huggingface.co/distilbert/distilbert-base-uncased-finetuned-sst-2-english).\n",
            "Using a pipeline without specifying a model name and revision in production is not recommended.\n",
            "/usr/local/lib/python3.10/dist-packages/transformers/tokenization_utils_base.py:1601: FutureWarning: `clean_up_tokenization_spaces` was not set. It will be set to `True` by default. This behavior will be depracted in transformers v4.45, and will be then set to `False` by default. For more details check this issue: https://github.com/huggingface/transformers/issues/31884\n",
            "  warnings.warn(\n"
          ]
        },
        {
          "output_type": "stream",
          "name": "stdout",
          "text": [
            "ChatGPT's Initial Offer: The initial offer is $120. What do you think?\n",
            "You: thank you, can we do at 95 please\n",
            "ChatGPT: My counteroffer is $112.0. Good advice.\n",
            "You: thank you, 97 would be great please\n",
            "ChatGPT: My counteroffer is $104.0. Thank you very much. I appreciate the counteroffer, you would not have had it if I didn't offer it.\n",
            "You: thank you, 98 please\n",
            "ChatGPT: My counteroffer is $96.0. I'll let both of the users do the negotiating.\n",
            "You: accept\n",
            "Thank you for accepting the offer of $96.0. The deal is finalized!\n"
          ]
        }
      ]
    },
    {
      "cell_type": "code",
      "source": [],
      "metadata": {
        "id": "4EL2PoShy7Pf"
      },
      "execution_count": null,
      "outputs": []
    }
  ]
}